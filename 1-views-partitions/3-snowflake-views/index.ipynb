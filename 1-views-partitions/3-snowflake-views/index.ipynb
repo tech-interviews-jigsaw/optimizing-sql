{
 "cells": [
  {
   "cell_type": "markdown",
   "id": "0148b5d6-1cff-42fe-9509-a79f8d2cd563",
   "metadata": {},
   "source": [
    "# Working with Views"
   ]
  },
  {
   "cell_type": "markdown",
   "id": "4bf62075-9e82-45ce-9b3f-3a7e9f354168",
   "metadata": {},
   "source": [
    "### Introduction"
   ]
  },
  {
   "cell_type": "markdown",
   "id": "ac890137-cc17-469c-bd3c-6ce0873cde98",
   "metadata": {},
   "source": [
    "In this lesson we'll learn about views.  Views are a feature of many databases, including snowflake, that allow us to create tables derived from an underlying table.  Let's get started."
   ]
  },
  {
   "cell_type": "markdown",
   "id": "5a1c2a20-4677-498c-a460-5d35a86c1373",
   "metadata": {},
   "source": [
    "### Creating a view"
   ]
  },
  {
   "cell_type": "markdown",
   "id": "0cad2f95-3f73-47ac-82cb-a67f4271be83",
   "metadata": {},
   "source": [
    "We can begin by selecting a table from our sample data, like the `CALL_CENTER` table under the `TPCDS_SF10TCL` schema.  Let's take a look at this table with the `describe` keyword."
   ]
  },
  {
   "cell_type": "markdown",
   "id": "0e9ec294-26ac-404a-a68f-559599cad043",
   "metadata": {},
   "source": [
    "> <img src=\"./describe_table.png\" width=\"60%\">"
   ]
  },
  {
   "cell_type": "markdown",
   "id": "2a2a1599-30da-4a23-9076-f22f9ca8d547",
   "metadata": {},
   "source": [
    "If we scroll down, we can see that this table has thirty one different columns.  From this original table, we can create a view."
   ]
  },
  {
   "cell_type": "markdown",
   "id": "0d927cf4-fc87-4be9-a07f-9779085852b2",
   "metadata": {},
   "source": [
    "We previously have created a database `demo_db` that has a schema of `public`.  And then we can create a view in the `demo_db.public` namespace with the following:  "
   ]
  },
  {
   "cell_type": "markdown",
   "id": "dbcc1795-1f51-4d8b-94a1-598aa6a99c92",
   "metadata": {},
   "source": [
    "<img src=\"./create-view.png\" width=\"100%\">"
   ]
  },
  {
   "cell_type": "markdown",
   "id": "57716b7b-d936-4553-a275-b6a5b2de8131",
   "metadata": {},
   "source": [
    "And now we can see that a view was created in the `demo_db` by navigating to the databases dashboard, and then clicking on `demo_db`.  From there, we can select the view tab, and see that our `CALL_CENTER_INFO` view was recently created."
   ]
  },
  {
   "cell_type": "markdown",
   "id": "dd9b8e73-294f-4c75-9da0-00c69177f7cb",
   "metadata": {},
   "source": [
    "> <img src=\"./view-tab.png\" width=\"100%\">"
   ]
  },
  {
   "cell_type": "markdown",
   "id": "5b377f9c-f2d1-4261-a18e-eb1c1c835850",
   "metadata": {},
   "source": [
    "Now even though the Views in listed under a separate tab than the tables in the database, if we want to query this view, we can do so by querying it as if it were a table:"
   ]
  },
  {
   "cell_type": "markdown",
   "id": "b2860e38-1fa1-4953-9bae-d13c8c2d39d0",
   "metadata": {},
   "source": [
    "```SQL\n",
    "SELECT * FROM demo_db.public.call_center_info;\n",
    "```"
   ]
  },
  {
   "cell_type": "markdown",
   "id": "4c51b025-679f-4446-b266-9777b1e04986",
   "metadata": {},
   "source": [
    "> <img src=\"./select-view.png\" width=\"100%\">"
   ]
  },
  {
   "cell_type": "markdown",
   "id": "8da18d15-7307-4932-a802-8e8f5af451bd",
   "metadata": {},
   "source": [
    "### Understanding Views"
   ]
  },
  {
   "cell_type": "markdown",
   "id": "16c8feae-70b8-42d5-a0a3-0614735b030c",
   "metadata": {},
   "source": [
    "So we just saw that we can create a view with a command like:"
   ]
  },
  {
   "cell_type": "markdown",
   "id": "c70e0b5f-6fc8-4aa3-a3d5-aa243a47e4fc",
   "metadata": {},
   "source": [
    "```SQL\n",
    "CREATE VIEW demo_db.public.call_center_info AS\n",
    "    SELECT CC_CALL_CENTER_ID call_center_id, CC_NAME as name, CC_CITY as city, CC_STATE as state, CC_ZIP as zip FROM \"SNOWFLAKE_SAMPLE_DATA\".\"TPCDS_SF10TCL\".\"CALL_CENTER\";\n",
    "```"
   ]
  },
  {
   "cell_type": "markdown",
   "id": "f4f5d887-96ab-4858-9f66-897612911ebc",
   "metadata": {},
   "source": [
    "And once we create a view we can query it like a table with something like."
   ]
  },
  {
   "cell_type": "markdown",
   "id": "2455e24a-3ff5-4486-9f34-57d09b16b703",
   "metadata": {},
   "source": [
    "```sql\n",
    "SELECT * FROM demo_db.public.call_center_info;\n",
    "```"
   ]
  },
  {
   "cell_type": "markdown",
   "id": "c5760c09-41cf-4774-871d-9cacd46800dc",
   "metadata": {},
   "source": [
    "Now the reason why this is different from a table is because, while it looks like we created a new table, really each time we select from the view, snowflake will re-execute the CREATE VIEW query.  That is, each time we query from the view, snowflake will first select from the underlying table -- the base table, and then query from the results that comprise that view."
   ]
  },
  {
   "cell_type": "markdown",
   "id": "5c7977ec-1e2e-485d-aaa4-db4e8e6e377e",
   "metadata": {},
   "source": [
    "Why does snowflake re-execute the query each time?  Well this way, we can be sure that any changes to the underlying table are displayed in our results.  So really, a view is just a named query.  "
   ]
  },
  {
   "cell_type": "markdown",
   "id": "28b3d373-b2c2-41ac-9301-850182c502ee",
   "metadata": {},
   "source": [
    "In particular, the kind of view we created above is called a **non-materialized view**.  It's non-materialized, because we are not actually storing any new data anywhere.  And while we treat the view like a table, under the hood, our non-materialized view operates just like a query."
   ]
  },
  {
   "cell_type": "markdown",
   "id": "30e34096-6ded-4f62-a304-57094a94f3ec",
   "metadata": {},
   "source": [
    "So here are a couple of reasons to create views:\n",
    "\n",
    "* Allows for easy reference to commonly used data\n",
    "* That is can decompose a difficult to understand query into several queries\n",
    "* Allows to better organize or normalize underlying tables\n",
    "* Allows us to grant access to a subset of a table to specific users"
   ]
  },
  {
   "cell_type": "markdown",
   "id": "d1e0bbdf-9d5f-4e59-995a-0efa60780996",
   "metadata": {},
   "source": [
    "### Creating materialized views"
   ]
  },
  {
   "cell_type": "markdown",
   "id": "8f740b66-2afe-4f3f-9bed-cec0c7319ceb",
   "metadata": {},
   "source": [
    "Now one downside of non-materialized view is that every time we select from the view, we have to re-execute the underlying query.  That is we essentially have to re-create our view each time we query from it.\n",
    "\n",
    "And as we know, this is because the results from the view are not stored anywhere.  Not storing the results can mean long running queries, and potentially using more compute than would be needed if simply stored these results.\n",
    "\n",
    "> One word for storing these results is to *cache* the results.\n",
    "\n",
    "If we would like to store the results of a view we need to create a **materialized view**. To create a materialized view, we just need to add the word `materialized` to our view. "
   ]
  },
  {
   "cell_type": "markdown",
   "id": "0f7da7a6-7d41-4137-8a8a-13907e6a2855",
   "metadata": {},
   "source": [
    "> **Warning**: materialized views are not supported in the free tier of snowflake."
   ]
  },
  {
   "cell_type": "markdown",
   "id": "8c855fcc-87a2-440b-925f-58e71c8e06db",
   "metadata": {},
   "source": [
    "```SQL\n",
    "CREATE materialized VIEW demo_db.public.customer AS\n",
    "    SELECT C_CUSTOMER_ID as customer_id, C_FIRST_NAME as first_name, C_LAST_NAME as last_name FROM \"SNOWFLAKE_SAMPLE_DATA\".\"TPCDS_SF10TCL\".\"CALL_CENTER\";\n",
    "```"
   ]
  },
  {
   "cell_type": "markdown",
   "id": "3aebbdd7-98d8-4dff-bf6f-ef726c8a72cf",
   "metadata": {},
   "source": [
    "So a materialized view will allow for faster access to the underlying data, but have a couple of downsides.  One is of course that it takes disk space to store this underlying data.  And a second is that snowflake will need to make sure that if there are any changes to the data in the underlying table, this data will be copied over to the materialized view before any query is run.  While snowflake will perform this maintenance automatically, this will lead to an increase in compute resources consumed."
   ]
  },
  {
   "cell_type": "markdown",
   "id": "fe7022eb-2dd2-402d-9365-4a78d302b7ed",
   "metadata": {},
   "source": [
    "For more information see snowflake's documentation on when to use [non-materialized views versus materialized views](https://docs.snowflake.com/en/user-guide/views-materialized.html#deciding-when-to-create-a-materialized-view)."
   ]
  },
  {
   "cell_type": "markdown",
   "id": "1b7148eb-c44a-4c89-9ef4-e1de9eb3f46a",
   "metadata": {},
   "source": [
    "### Resources\n",
    "\n",
    "[Materialized Views](https://docs.snowflake.com/en/user-guide/views-materialized.html)\n",
    "\n",
    "[Snowflake Views](https://docs.snowflake.com/en/user-guide/views-introduction.html)"
   ]
  }
 ],
 "metadata": {
  "kernelspec": {
   "display_name": "Python 3 (ipykernel)",
   "language": "python",
   "name": "python3"
  },
  "language_info": {
   "codemirror_mode": {
    "name": "ipython",
    "version": 3
   },
   "file_extension": ".py",
   "mimetype": "text/x-python",
   "name": "python",
   "nbconvert_exporter": "python",
   "pygments_lexer": "ipython3",
   "version": "3.9.7"
  }
 },
 "nbformat": 4,
 "nbformat_minor": 5
}

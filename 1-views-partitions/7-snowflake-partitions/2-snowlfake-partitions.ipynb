{
 "cells": [
  {
   "cell_type": "markdown",
   "id": "ed1006c8-c033-4204-ac44-97fa0f1c0290",
   "metadata": {},
   "source": [
    "# Snowflake Partitions"
   ]
  },
  {
   "cell_type": "markdown",
   "id": "350eba06-83d4-4b34-bdc3-7b9c92bce9c8",
   "metadata": {},
   "source": [
    "* With traditional data warehouses\n",
    "\n",
    "1. Static partitioning\n",
    "\n",
    "    * They partition the data based on keys and then store same type of data by the key.\n",
    "    * Previously, we had to define the partition before data was loaded into the data warehouse\n",
    "    * But we do this before we load the data.\n",
    "    \n"
   ]
  },
  {
   "cell_type": "markdown",
   "id": "0f8706f6-2e78-48a8-bbc6-4ba3370c8b0e",
   "metadata": {},
   "source": [
    "2. Micropartitioning\n",
    "* Snowflake will automatically divide into micro-partitions \n",
    "* And snowflake will partition, compress "
   ]
  },
  {
   "cell_type": "markdown",
   "id": "6da347c8-c98e-4071-8720-0a5783953c02",
   "metadata": {},
   "source": [
    "3. Clustering"
   ]
  },
  {
   "cell_type": "markdown",
   "id": "b787c135-44a0-46da-b6e7-1a1439eb3f89",
   "metadata": {},
   "source": [
    "A limitiation of micopartitioning is that it *stores data from top to bottom*.\n",
    "\n",
    "And this if we want to select data that has a particular value, we will need to go to multiple micropartitions to read the data.\n",
    "\n",
    "So instead, we can define a clustering key, and then based on that, we will first "
   ]
  },
  {
   "cell_type": "markdown",
   "id": "ca8799dc-f924-42bb-b458-b6169da535ce",
   "metadata": {},
   "source": [
    "<img src=\"./alter-cluster-by.png\" width=\"40%\">"
   ]
  },
  {
   "cell_type": "markdown",
   "id": "a2a71c58-bcbc-4da5-8bb3-69709e977524",
   "metadata": {},
   "source": [
    "Micropartition depth, the smaller the average depth, the better."
   ]
  },
  {
   "cell_type": "markdown",
   "id": "0e3f2c91-6505-4dd8-9ae4-7a6e3a92ba71",
   "metadata": {},
   "source": [
    "<img src=\"./micropartition-depth.png\" width=\"40%\">"
   ]
  },
  {
   "cell_type": "markdown",
   "id": "104142e4-c8e5-42e6-aa8e-f67292162664",
   "metadata": {},
   "source": [
    "### Resources"
   ]
  },
  {
   "cell_type": "markdown",
   "id": "263edfbe-91d7-44b3-a071-71b9388d8451",
   "metadata": {},
   "source": [
    "[Snowflake Master Class](https://youtu.be/TtIkX4fA67Q?t=4281)"
   ]
  },
  {
   "cell_type": "markdown",
   "id": "b15fad96-c81f-47d3-8a05-bf0f064e6db6",
   "metadata": {},
   "source": [
    "[Snowflake Documentation on Micropartitions](https://docs.snowflake.com/en/user-guide/tables-clustering-micropartitions.html)"
   ]
  },
  {
   "cell_type": "code",
   "execution_count": null,
   "id": "506eed7d-1b4d-4619-8805-9e6a9afca30a",
   "metadata": {},
   "outputs": [],
   "source": []
  }
 ],
 "metadata": {
  "kernelspec": {
   "display_name": "Python 3 (ipykernel)",
   "language": "python",
   "name": "python3"
  },
  "language_info": {
   "codemirror_mode": {
    "name": "ipython",
    "version": 3
   },
   "file_extension": ".py",
   "mimetype": "text/x-python",
   "name": "python",
   "nbconvert_exporter": "python",
   "pygments_lexer": "ipython3",
   "version": "3.9.7"
  }
 },
 "nbformat": 4,
 "nbformat_minor": 5
}

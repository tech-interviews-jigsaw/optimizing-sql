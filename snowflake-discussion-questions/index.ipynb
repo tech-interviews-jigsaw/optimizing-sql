{
 "cells": [
  {
   "cell_type": "markdown",
   "id": "adfcabc0-1153-4c4e-80f7-23cec539eaca",
   "metadata": {},
   "source": [
    "# Snowflake Discussion Questions"
   ]
  },
  {
   "cell_type": "markdown",
   "id": "9c1c7f24-10d9-42db-a910-9a407a870395",
   "metadata": {},
   "source": [
    "1. What is shared everything storage?\n",
    "\n",
    "* What are some of the disadvantages of shared everything storage?\n",
    "\n",
    "2. What is shared nothing storage?\n",
    "\n",
    "* What are some of the benefits of shared nothing storaged?\n",
    "* What are some of the downsides of shared nothing storage?\n",
    "\n",
    "* Map Reduce is commonly associated with distributed databases, and consists of two components map and reduce.\n",
    "    * What happens in the map component?\n",
    "    * What happens in the reduce component?"
   ]
  },
  {
   "cell_type": "markdown",
   "id": "4628b460-5f48-4ec3-af75-3a9b74af71c4",
   "metadata": {},
   "source": [
    "* What is an MPP database?"
   ]
  },
  {
   "cell_type": "markdown",
   "id": "70230a64-c8f4-4406-a235-3915713c80d3",
   "metadata": {},
   "source": [
    "3. What are some of the benefits of snowflake's isolated compute architecture over the shared nothing and shared everything architecture?"
   ]
  },
  {
   "cell_type": "markdown",
   "id": "040152dc-6c9a-441e-80e4-0422dabea100",
   "metadata": {},
   "source": [
    "4. What is a virtual warehouse in snowflake?"
   ]
  },
  {
   "cell_type": "code",
   "execution_count": null,
   "id": "65849467-a22f-4380-8d6b-3dbb576c5227",
   "metadata": {},
   "outputs": [],
   "source": []
  }
 ],
 "metadata": {
  "kernelspec": {
   "display_name": "Python 3 (ipykernel)",
   "language": "python",
   "name": "python3"
  },
  "language_info": {
   "codemirror_mode": {
    "name": "ipython",
    "version": 3
   },
   "file_extension": ".py",
   "mimetype": "text/x-python",
   "name": "python",
   "nbconvert_exporter": "python",
   "pygments_lexer": "ipython3",
   "version": "3.9.7"
  }
 },
 "nbformat": 4,
 "nbformat_minor": 5
}

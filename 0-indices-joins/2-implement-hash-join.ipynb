{
 "cells": [
  {
   "cell_type": "markdown",
   "id": "49659df4-5c4b-47c1-b8ba-e5dffdef9f90",
   "metadata": {},
   "source": [
    "# Implement Hash Join"
   ]
  },
  {
   "cell_type": "markdown",
   "id": "850ba748-d822-4542-bc02-5c32778badca",
   "metadata": {},
   "source": [
    "### Introduction"
   ]
  },
  {
   "cell_type": "markdown",
   "id": "c7db4e1f-855c-4f4a-a05b-52235b82ecce",
   "metadata": {},
   "source": [
    "In this lesson, we'll ask you to implement the hash join procedure\n",
    "\n",
    "Beyond allowing us to better absorb the procedure, it's also a pretty good leetcode style problems.  Let's get started."
   ]
  },
  {
   "cell_type": "markdown",
   "id": "16d3016d-24b2-4ed5-90fd-204a0de07b3d",
   "metadata": {},
   "source": [
    "### Working with our data"
   ]
  },
  {
   "cell_type": "markdown",
   "id": "74aceff2-346a-43a4-b103-d8d1cb0f914d",
   "metadata": {},
   "source": [
    "Let's say that we have the following data representing the orders table, and the customers table."
   ]
  },
  {
   "cell_type": "code",
   "execution_count": 6,
   "id": "6a863d99-4833-4c7c-8b91-7bfcc550da76",
   "metadata": {},
   "outputs": [],
   "source": [
    "orders = [{'customer_id': 1, 'product': 'phone'}, \n",
    "          {'customer_id': 1, 'product': 'tshirt'},\n",
    "          {'customer_id': 4, 'product': 'camera'},\n",
    "          {'customer_id': 6, 'product': 'watch'}]"
   ]
  },
  {
   "cell_type": "code",
   "execution_count": 5,
   "id": "a9684665-cfbe-47e0-9886-b5a9d9570eee",
   "metadata": {},
   "outputs": [],
   "source": [
    "customers = [{'id': 1, 'name': 'sam'},\n",
    "             {'id': 2, 'name': 'bob'},\n",
    "             {'id': 4, 'name': 'tina'},\n",
    "             {'id': 6, 'name': 'clayton'}]"
   ]
  },
  {
   "cell_type": "markdown",
   "id": "833d8724-94f4-4de6-ada7-52ab0bc32c90",
   "metadata": {},
   "source": [
    "And let's say that someone now performs the following query."
   ]
  },
  {
   "cell_type": "markdown",
   "id": "c68d0aad-1551-4be6-904b-a354eb0e6bb9",
   "metadata": {},
   "source": [
    "`select * from orders join customers on orders.customer_id = customers.id;`"
   ]
  },
  {
   "cell_type": "markdown",
   "id": "8f6feb13-a503-471f-a81d-7b369377e7d0",
   "metadata": {},
   "source": [
    "Implement the hash join.  Remember that this involves two operations: (1) hashing the smaller table, and (2) a sequential scan of the remaining table."
   ]
  },
  {
   "cell_type": "code",
   "execution_count": 54,
   "id": "efadaadb-7e33-457d-8152-722c4e4b8c40",
   "metadata": {},
   "outputs": [],
   "source": [
    "def hash_join(table_one, col_one, table_two, col_two):\n",
    "    pass\n",
    "    "
   ]
  },
  {
   "cell_type": "code",
   "execution_count": 55,
   "id": "7ca6eb62-a056-4f1a-8d6b-c490b4d03645",
   "metadata": {},
   "outputs": [],
   "source": [
    "hash_join(orders, 'customer_id', customers, 'id')\n",
    "\n",
    "# [{'customer_id': 1, 'product': 'phone', 'id': 1, 'name': 'sam'},\n",
    "#  {'customer_id': 1, 'product': 'tshirt', 'id': 1, 'name': 'sam'},\n",
    "#  {'customer_id': 4, 'product': 'camera', 'id': 4, 'name': 'tina'},\n",
    "#  {'customer_id': 6, 'product': 'watch', 'id': 6, 'name': 'clayton'}]\n",
    "\n"
   ]
  }
 ],
 "metadata": {
  "kernelspec": {
   "display_name": "Python 3 (ipykernel)",
   "language": "python",
   "name": "python3"
  },
  "language_info": {
   "codemirror_mode": {
    "name": "ipython",
    "version": 3
   },
   "file_extension": ".py",
   "mimetype": "text/x-python",
   "name": "python",
   "nbconvert_exporter": "python",
   "pygments_lexer": "ipython3",
   "version": "3.9.12"
  }
 },
 "nbformat": 4,
 "nbformat_minor": 5
}

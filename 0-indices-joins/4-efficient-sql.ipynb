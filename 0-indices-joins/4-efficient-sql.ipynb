{
 "cells": [
  {
   "cell_type": "markdown",
   "id": "71d4831d-cef7-4924-a703-0751d2bcedfa",
   "metadata": {},
   "source": [
    "# Efficient Queries"
   ]
  },
  {
   "cell_type": "markdown",
   "id": "ecff3370-82d9-4f8f-89d9-ba249f152e72",
   "metadata": {},
   "source": [
    "### Introduction"
   ]
  },
  {
   "cell_type": "markdown",
   "id": "0e88d828-25dc-41bf-8e2a-01c33293736c",
   "metadata": {},
   "source": [
    "In writing code, remember that our priorities is to make it work, make it right (meaning write clean code) and then to make it fast.\n",
    "\n",
    "In this lesson, we'll talk about techniques for optimizing SQL queries."
   ]
  },
  {
   "cell_type": "markdown",
   "id": "5c2861da-ac1a-49dd-b03a-9fcf4756de77",
   "metadata": {},
   "source": [
    "### A. Reducing Repetition"
   ]
  },
  {
   "cell_type": "markdown",
   "id": "83870231-08d3-49d9-8686-d22f7767b0b1",
   "metadata": {},
   "source": [
    "The first technique is simply to look for and reduce repetition in SQL queries.  This often happens when there are CTEs or subqueries.  In this case, different CTEs can be selecting from the same table, where instead we can just reference that original CTE. "
   ]
  },
  {
   "cell_type": "markdown",
   "id": "63b8276d-f28c-409b-94aa-415e9bdc06ea",
   "metadata": {},
   "source": [
    "```sql\n",
    "with customer_orders as (\n",
    "    select * from customers join orders on orders.customer_id = customers.id\n",
    "),\n",
    "customer_order_locations as (\n",
    "        select * from customers \n",
    "        join orders on orders.customer_id = customers.id \n",
    "        join locations on customer_id.location_id = locations.id\n",
    ")\n",
    "select * from customer_order_locations\n",
    "```"
   ]
  },
  {
   "cell_type": "markdown",
   "id": "ad95138c-5578-40c7-b977-c93896e58ec6",
   "metadata": {},
   "source": [
    "So in the above statement, we are loading up and joining the customers and orders a second time in our `customer_order_locations` CTE.  Instead we could have just referenced the `customer_orders` CTE and joined from there. \n"
   ]
  },
  {
   "cell_type": "markdown",
   "id": "67a82237-45c2-4f24-919e-81008f3ce684",
   "metadata": {},
   "source": [
    "Finding repetition in the above may seem pretty obvious, but repetition like that can occur in a long CTE.\n",
    "\n",
    "How do you spot it?\n",
    "\n",
    "Well just press `ctl + f` to see if certain queries are performed more than once."
   ]
  },
  {
   "cell_type": "markdown",
   "id": "7785d889-2c4e-4a61-91e7-bcb8630f726e",
   "metadata": {},
   "source": [
    "### Reducing in Select Clauses"
   ]
  },
  {
   "cell_type": "markdown",
   "id": "3a7b1b0b-e8a0-438a-8802-2d5767314da5",
   "metadata": {},
   "source": [
    "Selecting more columns takes more time than selecting fewer columns.  This is because all of that data needs to be loaded into memory.  And certain columns, like text columns, or images may contain a lot of data.  It's a good idea to make sure that each of the columns we load into memory are actually needed. "
   ]
  },
  {
   "cell_type": "markdown",
   "id": "3a09dd77-2cb3-442b-b791-b94430f0aa23",
   "metadata": {},
   "source": [
    "### Avoiding Distinct"
   ]
  },
  {
   "cell_type": "markdown",
   "id": "689965a9-7bcd-4b02-9ccd-9f42a712cff3",
   "metadata": {},
   "source": [
    "Using distinct in the select statement can be particularly slow, and when possible, should be avoided.  Here is how SQL performs distinct underneath.  \n",
    "\n",
    "1. First it, fetches the candidate rows into a temporary area\n",
    "2. Then it sorts the candidate rows\n",
    "3. It then moves through the sorted list of candidate rows to skip duplicate rows. Typically, it’ll stream the non-duplicate rows directly to the application at this point. \n",
    "\n",
    "> Read more [here](https://www.quora.com/Does-select-distinct-slow-down-a-query)\n",
    "\n",
    "Instead of performing a select distinct, we can try to avoid it.  For example, instead of performing a distinct of first_name, maybe we can group by the first name.  Or perhaps we can avoid the duplication of values by removing a join.  \n",
    "\n",
    "For example, look at the query below:\n",
    "\n",
    "```sql\n",
    "select distinct(customers.id) from customers join orders on orders.customer_id = customers.id\n",
    "```\n",
    "\n",
    "The reason why we are getting duplicate customer_ids in the first place is because a customer has many orders and we are joining orders.  So if we avoid the join, we can avoid the distinct in the first place."
   ]
  },
  {
   "cell_type": "markdown",
   "id": "a01bf887-1669-4c9f-a6e6-d99229113515",
   "metadata": {},
   "source": [
    "### Be Careful with Wildcards"
   ]
  },
  {
   "cell_type": "markdown",
   "id": "a384241e-e886-4b48-a343-1a81f22b85d1",
   "metadata": {},
   "source": [
    "Let's consider the following query."
   ]
  },
  {
   "cell_type": "markdown",
   "id": "9888bf1e-f13f-4eda-b1ea-beb7115d2129",
   "metadata": {},
   "source": [
    "```sql\n",
    "select * from customers where WHERE first_name LIKE '%than';\n",
    "```"
   ]
  },
  {
   "cell_type": "markdown",
   "id": "214deca6-9a8f-4d29-976d-9e3b9993800f",
   "metadata": {},
   "source": [
    "This query can take SQL a while to run, because it will move through an entire string before getting to the end where it potentially finds a match.  \n",
    "\n",
    "However if the wildcard is at the end of a string, this is less costly as it can look for a match at the top of a string and move on."
   ]
  },
  {
   "cell_type": "markdown",
   "id": "3004287d-48c1-4b75-9f8a-a29b6ee0da96",
   "metadata": {},
   "source": [
    "```sql\n",
    "select * from customers WHERE first_name LIKE 'nath%';\n",
    "```"
   ]
  },
  {
   "cell_type": "markdown",
   "id": "c8e103f2-865b-4f64-bb62-8c74e0a32fe8",
   "metadata": {},
   "source": [
    "### Remember indexes and joins"
   ]
  },
  {
   "cell_type": "markdown",
   "id": "4cbd5816-142a-49b2-9b92-9e22e7d02082",
   "metadata": {},
   "source": [
    "Finally, remember our tips from other lessons.\n",
    "\n",
    "* We can speed up our where clauses with indexes, and then make sure these indexes are used by our query by avoiding functions in the where clause.   \n",
    "\n",
    "* Be aware of joins, by loading reducing the data either by reducing the number of tables used, or adding a where clause to reduce the amount of data joined.  Remember our tips to speed up joins:\n",
    "    * Only join on necessary tables\n",
    "    * Reduce the data as much possible before any joins (for example, group by before joining)\n",
    "    * join on indexed or int columns.\n",
    "    "
   ]
  },
  {
   "cell_type": "markdown",
   "id": "247a0d51-baa3-4051-b274-b89bd194de76",
   "metadata": {},
   "source": [
    "To review tips, and see some more, check out the resources below."
   ]
  },
  {
   "cell_type": "markdown",
   "id": "db37d1da-b608-4299-9f3b-055941a4c3c3",
   "metadata": {},
   "source": [
    "### Resources\n",
    "\n",
    "[Devart Sql queries](https://blog.devart.com/how-to-optimize-sql-query.html)\n",
    "\n",
    "[More advanced optimization tips](https://help.hcltechsw.com/commerce/7.0.0/com.ibm.commerce.developer.soa.doc/refs/rsdperformanceworkspaces.html)\n",
    "\n",
    "\n",
    "\n"
   ]
  }
 ],
 "metadata": {
  "kernelspec": {
   "display_name": "Python 3 (ipykernel)",
   "language": "python",
   "name": "python3"
  },
  "language_info": {
   "codemirror_mode": {
    "name": "ipython",
    "version": 3
   },
   "file_extension": ".py",
   "mimetype": "text/x-python",
   "name": "python",
   "nbconvert_exporter": "python",
   "pygments_lexer": "ipython3",
   "version": "3.9.12"
  }
 },
 "nbformat": 4,
 "nbformat_minor": 5
}

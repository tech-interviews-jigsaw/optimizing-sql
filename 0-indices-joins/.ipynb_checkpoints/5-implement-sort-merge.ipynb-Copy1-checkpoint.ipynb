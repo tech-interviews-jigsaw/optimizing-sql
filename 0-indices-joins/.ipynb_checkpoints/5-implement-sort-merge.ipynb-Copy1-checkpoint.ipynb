{
 "cells": [
  {
   "cell_type": "markdown",
   "id": "49659df4-5c4b-47c1-b8ba-e5dffdef9f90",
   "metadata": {},
   "source": [
    "# Implement Sort and Merge Lab "
   ]
  },
  {
   "cell_type": "markdown",
   "id": "850ba748-d822-4542-bc02-5c32778badca",
   "metadata": {},
   "source": [
    "### Introduction"
   ]
  },
  {
   "cell_type": "markdown",
   "id": "c7db4e1f-855c-4f4a-a05b-52235b82ecce",
   "metadata": {},
   "source": [
    "In this lesson, we'll ask you to implement the \n",
    "1. Sort and merge join  procedure and the \n",
    "2. Hash join procedure\n",
    "\n",
    "Beyond allowing us to better absorb the procedures, these are also pretty good leetcode style problems.  Let's get started."
   ]
  },
  {
   "cell_type": "markdown",
   "id": "16d3016d-24b2-4ed5-90fd-204a0de07b3d",
   "metadata": {},
   "source": [
    "### Working with our data"
   ]
  },
  {
   "cell_type": "markdown",
   "id": "74aceff2-346a-43a4-b103-d8d1cb0f914d",
   "metadata": {},
   "source": [
    "Let's say that we have the following data representing the orders table, and the customers table."
   ]
  },
  {
   "cell_type": "code",
   "execution_count": 6,
   "id": "6a863d99-4833-4c7c-8b91-7bfcc550da76",
   "metadata": {},
   "outputs": [],
   "source": [
    "orders = [{'customer_id': 1, 'product': 'phone'}, \n",
    "          {'customer_id': 1, 'product': 'tshirt'},\n",
    "          {'customer_id': 4, 'product': 'camera'},\n",
    "          {'customer_id': 6, 'product': 'watch'}]"
   ]
  },
  {
   "cell_type": "code",
   "execution_count": 5,
   "id": "a9684665-cfbe-47e0-9886-b5a9d9570eee",
   "metadata": {},
   "outputs": [],
   "source": [
    "customers = [{'id': 1, 'name': 'sam'},\n",
    "             {'id': 2, 'name': 'bob'},\n",
    "             {'id': 4, 'name': 'tina'},\n",
    "             {'id': 6, 'name': 'clayton'}]"
   ]
  },
  {
   "cell_type": "markdown",
   "id": "833d8724-94f4-4de6-ada7-52ab0bc32c90",
   "metadata": {},
   "source": [
    "And let's say that someone now performs the following query."
   ]
  },
  {
   "cell_type": "markdown",
   "id": "c68d0aad-1551-4be6-904b-a354eb0e6bb9",
   "metadata": {},
   "source": [
    "`select * from orders join customers on orders.customer_id = customers.id;`"
   ]
  },
  {
   "cell_type": "markdown",
   "id": "8f6feb13-a503-471f-a81d-7b369377e7d0",
   "metadata": {},
   "source": [
    "Implement the merge join.  Remember that this involves two operations.  Sorting the data, and then merging the data."
   ]
  },
  {
   "cell_type": "code",
   "execution_count": 12,
   "id": "034a17a2-be7d-4841-a1ba-b9ef3bb8fa1e",
   "metadata": {},
   "outputs": [
    {
     "data": {
      "text/plain": [
       "([{'id': 1, 'name': 'sam'},\n",
       "  {'id': 2, 'name': 'bob'},\n",
       "  {'id': 4, 'name': 'tina'},\n",
       "  {'id': 6, 'name': 'clayton'}],\n",
       " [{'customer_id': 1, 'product': 'phone'},\n",
       "  {'customer_id': 1, 'product': 'tshirt'},\n",
       "  {'customer_id': 4, 'product': 'camera'},\n",
       "  {'customer_id': 6, 'product': 'watch'}])"
      ]
     },
     "execution_count": 12,
     "metadata": {},
     "output_type": "execute_result"
    }
   ],
   "source": [
    "def sort_table(rows, column):\n",
    "    return sorted(rows, key = lambda x: x[column])\n",
    "\n",
    "sorted_customers = sort_table(customers, 'id')\n",
    "sorted_orders = sort_table(orders, 'customer_id')\n",
    "sorted_customers, sorted_orders"
   ]
  },
  {
   "cell_type": "code",
   "execution_count": null,
   "id": "d763d1dd-7ddb-43eb-909a-04dc56dd52a7",
   "metadata": {},
   "outputs": [],
   "source": [
    "customer_pointer = 0\n"
   ]
  },
  {
   "cell_type": "markdown",
   "id": "801d6e95-e6ac-47e7-be13-b061b5e43237",
   "metadata": {},
   "source": [
    "* customers.customer_id \n",
    "    * 1 \n",
    "    * 2\n",
    "    * 4\n",
    "    * 6\n",
    "\n",
    "* orders.customer_id \n",
    "    * 1\n",
    "    * 4\n",
    "    * 6"
   ]
  },
  {
   "cell_type": "markdown",
   "id": "12f47d8a-0222-484d-9499-06dbdb45d3de",
   "metadata": {},
   "source": [
    "# Merge Join"
   ]
  },
  {
   "cell_type": "code",
   "execution_count": 2,
   "id": "270dfe15-7b96-4190-94d4-5b49ac590d26",
   "metadata": {},
   "outputs": [],
   "source": [
    "# [{**matching_order, **first_customer} for matching_order in matching_orders]"
   ]
  },
  {
   "cell_type": "code",
   "execution_count": null,
   "id": "965d4e3a-dd2e-497b-8bfc-db0b8cbb1fdc",
   "metadata": {},
   "outputs": [],
   "source": []
  }
 ],
 "metadata": {
  "kernelspec": {
   "display_name": "Python 3 (ipykernel)",
   "language": "python",
   "name": "python3"
  },
  "language_info": {
   "codemirror_mode": {
    "name": "ipython",
    "version": 3
   },
   "file_extension": ".py",
   "mimetype": "text/x-python",
   "name": "python",
   "nbconvert_exporter": "python",
   "pygments_lexer": "ipython3",
   "version": "3.9.12"
  }
 },
 "nbformat": 4,
 "nbformat_minor": 5
}

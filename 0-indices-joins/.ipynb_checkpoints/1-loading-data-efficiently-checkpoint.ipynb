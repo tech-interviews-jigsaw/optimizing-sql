{
 "cells": [
  {
   "cell_type": "markdown",
   "id": "b4261395-afca-4491-9e34-dd0a9eaaa356",
   "metadata": {},
   "source": [
    "# Understanding Joins"
   ]
  },
  {
   "cell_type": "markdown",
   "id": "f93038c6-2baf-4055-91b4-1aa830e6e8e3",
   "metadata": {},
   "source": [
    "### Introduction\n",
    "\n",
    "In this lesson, we'll talk about one of the more costly SQL operations, which is performing a join.  Let's get into it."
   ]
  },
  {
   "cell_type": "markdown",
   "id": "25434656-26c8-4472-9f43-6d7416d25bd3",
   "metadata": {},
   "source": [
    "### How Joins Work"
   ]
  },
  {
   "cell_type": "markdown",
   "id": "884e7cc6-4bbe-4824-8d91-7b7723907249",
   "metadata": {},
   "source": [
    "There are two different kinds of joins that postgres will perform: \n",
    "    \n",
    "1. A sort and merge join (AKA merge join) and\n",
    "2. A hash join\n",
    "\n",
    "A sort and merge join is typically faster than a hash join.\n",
    "\n",
    "### Sort and Merge\n",
    "\n",
    "With a sort and merge join, both of the joined tables are sorted by the joining key, and then merged.  For example, if we are merging customers and orders, and we have the following values:\n",
    "\n",
    "* customers.customer_id \n",
    "    * 1 \n",
    "    * 2\n",
    "    * 4\n",
    "    * 6\n",
    "\n",
    "* orders.customer_id \n",
    "    * 1\n",
    "    * 4\n",
    "    * 6\n",
    "    \n",
    "SQL will do the following.  First, SQL will start with the first `customers.customer_id` value, 1, and then go to the first `orders.customer_id` value.  There is a match, so it lines up the two rows -- aka the merge.  Moving to the second record with customers.customer_id = 2, immediately it sees that there orders.customer_id does not have a 2 as the next highest number is 4.\n",
    "\n",
    "Because postgres automatically indexes foreign and primary keys, the two tables are probably already properly sorted, and so the only real step is the merge operation.  \n",
    "\n",
    "So merge joins are the go to operation by postgres and pretty fast.\n",
    "\n",
    "### Hash joins\n",
    "\n",
    "With a hash join, postgres will first hash the keys of the inner table (that is the table to the left of the join), and then scan the right table for any matches.\n",
    "\n",
    "The cost of the hash join is low if the hash of the left table's join column can be fit into memory, but is significantly higher if needs to be written to disk."
   ]
  },
  {
   "cell_type": "markdown",
   "id": "cb0893f1-b49f-4bf7-ac11-185135903ee6",
   "metadata": {},
   "source": [
    "### Techniques to Speed Up Joins"
   ]
  },
  {
   "cell_type": "markdown",
   "id": "695af68b-103d-4dc1-acb1-962533a8e723",
   "metadata": {},
   "source": [
    "So now that understand a bit about how joins work, let's talk through some techniques for reducing the cost of joins.  \n",
    "\n",
    "1. Only join tables that are necessary\n",
    "\n",
    "> This makes sense -- the fewer tables we need to load and perform a join operation on, the faster.\n",
    "\n",
    "2. Reduce the data as much possible before any joins.\n",
    "> For example, we can optimize our joins with a where clause when joining the tables.  The optimizer will perform the where clause before joining the tables. \n",
    "\n",
    "> However, it will not peform the group by first -- so you can move that to a subquery before joining.  [See more](https://www.cybertec-postgresql.com/en/postgresql-speeding-up-group-by-and-joins/).\n",
    "\n",
    "3. When joining, make sure smaller tables are on the left side of join syntax, as smaller tables are easier to store in memory.\n",
    "\n",
    "4. Join on INT columns, preferred over any other types, it makes it faster."
   ]
  },
  {
   "cell_type": "markdown",
   "id": "f06bc792-eeb9-4a5d-94df-0ac328e044af",
   "metadata": {},
   "source": [
    "### Summary \n",
    "\n",
    "In this lesson, we saw how joins work.  The primary technique is a sort and merge where the data is first sorted and then the algorithm looks for a match.  \n",
    "\n",
    "To speed up joins, only load tables that are necessary, reduce the data as much as possible before joining, join on int columns (or indexed columns like foreign keys and primary keys), and try to have the smaller table on the left side."
   ]
  },
  {
   "cell_type": "markdown",
   "id": "7cbd2d0d-76e2-4be8-890a-1a58a4145900",
   "metadata": {},
   "source": [
    "### Resources\n",
    "\n",
    "[Verica - Hash join vs Merge Join](https://www.vertica.com/docs/9.2.x/HTML/Content/Authoring/AnalyzingData/Optimizations/HashJoinsVs.MergeJoins.htm)\n",
    "\n",
    "[Joins on Postgres](https://www.cybertec-postgresql.com/en/join-strategies-and-performance-in-postgresql)"
   ]
  }
 ],
 "metadata": {
  "kernelspec": {
   "display_name": "Python 3 (ipykernel)",
   "language": "python",
   "name": "python3"
  },
  "language_info": {
   "codemirror_mode": {
    "name": "ipython",
    "version": 3
   },
   "file_extension": ".py",
   "mimetype": "text/x-python",
   "name": "python",
   "nbconvert_exporter": "python",
   "pygments_lexer": "ipython3",
   "version": "3.10.6"
  }
 },
 "nbformat": 4,
 "nbformat_minor": 5
}

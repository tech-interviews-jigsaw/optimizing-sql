{
 "cells": [
  {
   "cell_type": "markdown",
   "id": "71d4831d-cef7-4924-a703-0751d2bcedfa",
   "metadata": {},
   "source": [
    "# Efficient Queries"
   ]
  },
  {
   "cell_type": "markdown",
   "id": "03d12e6b-d63b-435b-847e-6d69d3d638f5",
   "metadata": {},
   "source": [
    "1. Always reduce the data before any joins as much possible.\n",
    "2. When joining, make sure smaller tables are on the left side of join syntax, which makes this data set to be in memory / broadcasted to all the vertica nodes and makes join faster.\n",
    "3. Join on INT columns, preferred over any other types, it makes it faster.\n",
    "4. Select on the columns which are really needed. -- Reduce materializing of columns"
   ]
  },
  {
   "cell_type": "markdown",
   "id": "c8e103f2-865b-4f64-bb62-8c74e0a32fe8",
   "metadata": {},
   "source": [
    "[Strong general tips: ReREAD](https://help.hcltechsw.com/commerce/7.0.0/com.ibm.commerce.developer.soa.doc/refs/rsdperformanceworkspaces.html)"
   ]
  },
  {
   "cell_type": "markdown",
   "id": "3aa0c3cd-a094-436d-aa64-7f440f71678f",
   "metadata": {},
   "source": [
    "### Hash joins \n",
    "\n",
    "[Hash joins vs merge joins](https://www.vertica.com/docs/9.2.x/HTML/Content/Authoring/AnalyzingData/Optimizations/HashJoinsVs.MergeJoins.htm)"
   ]
  },
  {
   "cell_type": "markdown",
   "id": "db37d1da-b608-4299-9f3b-055941a4c3c3",
   "metadata": {},
   "source": [
    "### Resources\n",
    "\n",
    "[Speed Joins](https://forum.vertica.com/discussion/241799/how-to-speed-up-multiple-join-query#:~:text=1.,nodes%20and%20makes%20join%20faster)"
   ]
  },
  {
   "cell_type": "code",
   "execution_count": null,
   "id": "b5b4646b-456f-4044-8612-65fd62527c66",
   "metadata": {},
   "outputs": [],
   "source": []
  }
 ],
 "metadata": {
  "kernelspec": {
   "display_name": "Python 3 (ipykernel)",
   "language": "python",
   "name": "python3"
  },
  "language_info": {
   "codemirror_mode": {
    "name": "ipython",
    "version": 3
   },
   "file_extension": ".py",
   "mimetype": "text/x-python",
   "name": "python",
   "nbconvert_exporter": "python",
   "pygments_lexer": "ipython3",
   "version": "3.10.6"
  }
 },
 "nbformat": 4,
 "nbformat_minor": 5
}

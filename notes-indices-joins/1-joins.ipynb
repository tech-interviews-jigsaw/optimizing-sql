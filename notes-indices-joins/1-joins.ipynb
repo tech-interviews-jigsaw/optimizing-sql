{
 "cells": [
  {
   "cell_type": "markdown",
   "id": "b4261395-afca-4491-9e34-dd0a9eaaa356",
   "metadata": {},
   "source": [
    "# Understanding Joins"
   ]
  },
  {
   "cell_type": "markdown",
   "id": "f93038c6-2baf-4055-91b4-1aa830e6e8e3",
   "metadata": {},
   "source": [
    "### Introduction\n",
    "\n",
    "In this lesson, we'll talk about one of the more costly SQL operations, which is performing a join.  Let's get into it."
   ]
  },
  {
   "cell_type": "markdown",
   "id": "78e7d528-9036-4215-a8ee-6c99d394d280",
   "metadata": {},
   "source": [
    "## The brute force approach"
   ]
  },
  {
   "cell_type": "markdown",
   "id": "68d49a08-c061-4601-9a9a-f132065477ee",
   "metadata": {},
   "source": [
    "For example:\n",
    "\n",
    "* customers.customer_id \n",
    "    * 1 \n",
    "    * 2\n",
    "    * 4\n",
    "    * 6\n",
    "\n",
    "* orders.customer_id \n",
    "    * 1\n",
    "    * 4\n",
    "    * 6"
   ]
  },
  {
   "cell_type": "markdown",
   "id": "25434656-26c8-4472-9f43-6d7416d25bd3",
   "metadata": {},
   "source": [
    "### How Joins Normally Work"
   ]
  },
  {
   "cell_type": "markdown",
   "id": "884e7cc6-4bbe-4824-8d91-7b7723907249",
   "metadata": {
    "tags": []
   },
   "source": [
    "#### 1.  Sort and Merge\n",
    "\n",
    "\n",
    "1. First pointer - Move forward only if second pointer's value is higher\n",
    "2. Second pointer - Move forward until more than the first pointer's value (then yield to first pointer)\n",
    "* When there's a match move it to the work table"
   ]
  },
  {
   "cell_type": "markdown",
   "id": "856a677d-e872-436c-b3bc-de230d7e9e84",
   "metadata": {},
   "source": [
    "<img src=\"./work-table.png\" width=\"60%\">"
   ]
  },
  {
   "cell_type": "markdown",
   "id": "7cc5a8ca-db94-43e2-8986-f7357fcd339b",
   "metadata": {},
   "source": [
    "### Hash joins\n",
    "\n",
    "Hash joins are actually the go to technique by postgres.  With a hash join, postgres will *first hash* the values of the smaller table.  Then it will proceed through each the values of the second larger table, and with each value with look for the corresponding valus in the hash."
   ]
  },
  {
   "cell_type": "markdown",
   "id": "aa9fd94a-f0f2-43b8-8776-b67df6cebe67",
   "metadata": {},
   "source": [
    "Let's take our list of values from above."
   ]
  },
  {
   "cell_type": "markdown",
   "id": "c29fadec-b1c6-448b-9f8f-49a36eae678f",
   "metadata": {},
   "source": [
    "* customers.id, name\n",
    "    * 1 sam\n",
    "    * 2 bob\n",
    "    * 4 tina\n",
    "    * 6 clayton\n",
    "\n",
    "* orders.customer_id, product_name\n",
    "    * 1               phone\n",
    "    * 4               camera\n",
    "    * 6               watch\n",
    "    * 1               tshirt"
   ]
  },
  {
   "cell_type": "markdown",
   "id": "63c70248-3bc4-4447-99c1-e9119a61fe7f",
   "metadata": {},
   "source": [
    "This time, the `orders.customer_id` column will be hashed because it's the smaller table.  Then postgres will scan through the customers table looking for a match."
   ]
  },
  {
   "cell_type": "code",
   "execution_count": 41,
   "id": "41ead3ac-16d5-4f39-8356-2bd0aecb9aeb",
   "metadata": {},
   "outputs": [],
   "source": [
    "orders_customer_id = {1: [{'customer_id': 1, 'product': 'phone'}, {'customer_id': 1, 'product': 'tshirt'}],\n",
    "                     4: [{'customer_id': 4, 'product': 'camera'}],\n",
    "                     6: [{'customer_id': 6, 'product': 'watch'}]}"
   ]
  },
  {
   "cell_type": "markdown",
   "id": "0fe5c95a-f052-46c9-b4f0-58a267bdc90c",
   "metadata": {},
   "source": [
    "* Sequential Scan through the data"
   ]
  },
  {
   "cell_type": "code",
   "execution_count": 32,
   "id": "88ed2dff-2f45-4cfa-a8fd-0f75e75f3791",
   "metadata": {},
   "outputs": [],
   "source": [
    "customers = [{'id': 1, 'name': 'sam'},\n",
    "             {'id': 2, 'name': 'bob'},\n",
    "             {'id': 4, 'name': 'tina'},\n",
    "             {'id': 6, 'name': 'clayton'}]"
   ]
  },
  {
   "cell_type": "markdown",
   "id": "31b9667e-5bf7-4511-aec3-40b921c7e8cd",
   "metadata": {},
   "source": [
    "### Seeing it in action"
   ]
  },
  {
   "cell_type": "markdown",
   "id": "e28999af-7b9f-4033-b07a-ace125731ad4",
   "metadata": {},
   "source": [
    "`select * from movie_actors join actors on actors.id = movie_actors.actor_id;`\n"
   ]
  },
  {
   "cell_type": "markdown",
   "id": "85520563-a04d-421e-aed8-cb9c8ea7d7d0",
   "metadata": {},
   "source": [
    "<img src=\"./explain_hash.png\" width=\"100%\">"
   ]
  },
  {
   "cell_type": "markdown",
   "id": "f06bc792-eeb9-4a5d-94df-0ac328e044af",
   "metadata": {},
   "source": [
    "### Summary \n",
    "\n",
    "In this lesson, we saw how joins work.  The primary technique is a sort and merge where the data is first sorted and then the algorithm looks for a match.  \n",
    "\n",
    "To speed up joins, only load tables that are necessary, reduce the data as much as possible before joining, join on int columns (or indexed columns like foreign keys and primary keys), and try to have the smaller table on the left side."
   ]
  },
  {
   "cell_type": "markdown",
   "id": "7cbd2d0d-76e2-4be8-890a-1a58a4145900",
   "metadata": {},
   "source": [
    "### Resources\n",
    "\n",
    "[Dats with Bert](https://bertwagner.com/posts/hash-match-join-internals/)\n",
    "\n",
    "[Verica - Hash join vs Merge Join](https://www.vertica.com/docs/9.2.x/HTML/Content/Authoring/AnalyzingData/Optimizations/HashJoinsVs.MergeJoins.htm)\n",
    "\n",
    "[Joins on Postgres](https://www.cybertec-postgresql.com/en/join-strategies-and-performance-in-postgresql)"
   ]
  },
  {
   "cell_type": "code",
   "execution_count": null,
   "id": "756ef380-f633-48e3-9eb2-4740ee8c9cae",
   "metadata": {},
   "outputs": [],
   "source": []
  }
 ],
 "metadata": {
  "kernelspec": {
   "display_name": "Python 3 (ipykernel)",
   "language": "python",
   "name": "python3"
  },
  "language_info": {
   "codemirror_mode": {
    "name": "ipython",
    "version": 3
   },
   "file_extension": ".py",
   "mimetype": "text/x-python",
   "name": "python",
   "nbconvert_exporter": "python",
   "pygments_lexer": "ipython3",
   "version": "3.9.12"
  }
 },
 "nbformat": 4,
 "nbformat_minor": 5
}
